{
 "cells": [
  {
   "cell_type": "code",
   "execution_count": 5,
   "metadata": {},
   "outputs": [],
   "source": [
    "import pandas as pd\n",
    "import numpy as np\n",
    "from sklearn.model_selection import train_test_split\n",
    "from sklearn.linear_model import LogisticRegression\n",
    "from sklearn.metrics import accuracy_score\n"
   ]
  },
  {
   "cell_type": "code",
   "execution_count": 6,
   "metadata": {},
   "outputs": [
    {
     "name": "stdout",
     "output_type": "stream",
     "text": [
      "Test Error: 0.03049999999999997\n"
     ]
    }
   ],
   "source": [
    "# Load the dataset\n",
    "# Assuming the dataset is in a CSV file named 'Default.csv'\n",
    "data = pd.read_csv('Default.csv')\n",
    "\n",
    "# Set a random seed\n",
    "np.random.seed(42)\n",
    "\n",
    "# Split the data into training and validation sets\n",
    "train_data, validation_data = train_test_split(data, test_size=0.2, random_state=42)\n",
    "\n",
    "# Define the features and the target variable\n",
    "X_train = train_data[['income', 'balance', 'student']]\n",
    "y_train = train_data['default']\n",
    "X_validation = validation_data[['income', 'balance', 'student']]\n",
    "y_validation = validation_data['default']\n",
    "\n",
    "# Convert 'student' column to numerical values if it's categorical\n",
    "X_train = pd.get_dummies(X_train, drop_first=True)\n",
    "X_validation = pd.get_dummies(X_validation, drop_first=True)\n",
    "\n",
    "# Fit a logistic regression model on the training set\n",
    "model = LogisticRegression()\n",
    "model.fit(X_train, y_train)\n",
    "\n",
    "# Predict the probabilities on the validation set\n",
    "y_pred = model.predict(X_validation)\n",
    "\n",
    "# Calculate the test error on the validation set\n",
    "test_error = 1 - accuracy_score(y_validation, y_pred)\n",
    "\n",
    "print(f'Test Error: {test_error}')"
   ]
  }
 ],
 "metadata": {
  "kernelspec": {
   "display_name": "Python 3",
   "language": "python",
   "name": "python3"
  },
  "language_info": {
   "codemirror_mode": {
    "name": "ipython",
    "version": 3
   },
   "file_extension": ".py",
   "mimetype": "text/x-python",
   "name": "python",
   "nbconvert_exporter": "python",
   "pygments_lexer": "ipython3",
   "version": "3.9.6"
  }
 },
 "nbformat": 4,
 "nbformat_minor": 2
}
